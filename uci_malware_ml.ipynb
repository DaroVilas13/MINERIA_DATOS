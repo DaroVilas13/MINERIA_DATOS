{
 "cells": [
  {
   "cell_type": "code",
   "execution_count": null,
   "id": "159a78fd",
   "metadata": {},
   "outputs": [],
   "source": [
    "!pip install pandas\n"
   ]
  },
  {
   "cell_type": "code",
   "execution_count": 1,
   "id": "2a5e4256",
   "metadata": {},
   "outputs": [],
   "source": [
    "import pandas as pd\n",
    "from sklearn.model_selection import train_test_split\n",
    "from sklearn import tree\n",
    "from sklearn.metrics import confusion_matrix"
   ]
  },
  {
   "cell_type": "code",
   "execution_count": 3,
   "id": "f9d88346",
   "metadata": {},
   "outputs": [
    {
     "data": {
      "text/plain": [
       "array([[94,  4],\n",
       "       [ 1, 25]], dtype=int64)"
      ]
     },
     "execution_count": 3,
     "metadata": {},
     "output_type": "execute_result"
    }
   ],
   "source": [
    "\n",
    "\n",
    "df=pd.read_csv(\"./uci_malware_detection.csv\")\n",
    "#en la variable Y ingresa todas las respuestas de los indices de las filas que serian los resultados de virus o no \n",
    "y = df[\"Label\"]\n",
    "# en la variable x ingresan todas las columnas menos la LABEL que es el resultado si es virus o no o sea solo tiene los datos\n",
    "x=df.drop(\"Label\",axis=1)\n",
    "#train entrenar y test para evaluar test_size el porcentaje que utilizas del modelo 33% y radom_state para mantener esos datos.\n",
    "#mas importante\n",
    "X_train, X_test, y_train, y_test = train_test_split(x, y, test_size=0.33, random_state=42)\n",
    "#se decide por el modelo a utilizar este puede ser reemplazable \n",
    "clf = tree.DecisionTreeClassifier()\n",
    "# entrenamos el modelo ya esta entrenado fit entrena el modelo con los datos de entrenamiento\n",
    "clf = clf.fit(X_train, y_train)\n",
    "# esta debe entregarte los resultados del modelo y comparamos con los resultados reales de los mismos datos x pero en y\n",
    "confusion_matrix(y_test, clf.predict(X_test))"
   ]
  },
  {
   "cell_type": "code",
   "execution_count": 4,
   "id": "0955f376",
   "metadata": {
    "scrolled": true
   },
   "outputs": [
    {
     "name": "stdout",
     "output_type": "stream",
     "text": [
      "     F_1  F_2  F_3  F_4  F_5  F_6  F_7  F_8  F_9  F_10  ...  F_522  F_523  \\\n",
      "36     1    0    1    0    1    0    1    0    1     0  ...      0      0   \n",
      "158    1    0    1    0    1    0    1    0    1     0  ...      0      0   \n",
      "183    1    0    1    0    1    0    1    0    1     0  ...      0      0   \n",
      "168    1    0    1    0    1    0    1    0    1     0  ...      0      1   \n",
      "302    1    0    1    0    1    0    1    0    1     0  ...      0      1   \n",
      "..   ...  ...  ...  ...  ...  ...  ...  ...  ...   ...  ...    ...    ...   \n",
      "71     1    0    1    0    1    0    1    0    1     0  ...      0      0   \n",
      "106    1    0    1    0    1    0    1    0    1     0  ...      0      0   \n",
      "270    1    0    1    0    1    0    1    0    1     0  ...      0      0   \n",
      "348    1    0    1    0    1    0    1    0    1     0  ...      0      0   \n",
      "102    1    0    1    0    1    0    1    0    1     0  ...      0      0   \n",
      "\n",
      "     F_524  F_525  F_526  F_527  F_528  F_529  F_530  F_531  \n",
      "36       0      0      0      0      0      0      0      0  \n",
      "158      0      0      0      0      0      0      0      1  \n",
      "183      0      0      1      0      0      0      1      0  \n",
      "168      0      0      1      0      0      1      0      0  \n",
      "302      0      0      1      0      0      0      1      0  \n",
      "..     ...    ...    ...    ...    ...    ...    ...    ...  \n",
      "71       0      0      0      0      0      0      0      0  \n",
      "106      0      0      0      0      0      0      0      0  \n",
      "270      0      0      1      0      0      0      1      0  \n",
      "348      0      0      1      0      0      0      1      0  \n",
      "102      0      0      0      0      0      0      0      1  \n",
      "\n",
      "[249 rows x 531 columns]\n",
      "36     non-malicious\n",
      "158        malicious\n",
      "183        malicious\n",
      "168        malicious\n",
      "302        malicious\n",
      "           ...      \n",
      "71     non-malicious\n",
      "106        malicious\n",
      "270        malicious\n",
      "348        malicious\n",
      "102        malicious\n",
      "Name: Label, Length: 249, dtype: object\n"
     ]
    }
   ],
   "source": [
    "print (X_train)\n",
    "print (y_train)"
   ]
  },
  {
   "cell_type": "code",
   "execution_count": 5,
   "id": "e812374b",
   "metadata": {},
   "outputs": [
    {
     "name": "stdout",
     "output_type": "stream",
     "text": [
      "     F_1  F_2  F_3  F_4  F_5  F_6  F_7  F_8  F_9  F_10  ...  F_522  F_523  \\\n",
      "327    1    0    1    0    1    0    1    0    1     0  ...      0      0   \n",
      "33     1    0    1    0    1    0    1    0    1     0  ...      0      0   \n",
      "15     1    0    1    0    1    0    1    0    1     0  ...      0      0   \n",
      "314    1    0    1    0    1    0    1    0    1     0  ...      0      0   \n",
      "57     1    0    1    0    1    0    1    0    1     0  ...      0      0   \n",
      "..   ...  ...  ...  ...  ...  ...  ...  ...  ...   ...  ...    ...    ...   \n",
      "104    1    0    1    0    1    0    1    0    1     0  ...      0      0   \n",
      "285    1    0    1    0    1    0    1    0    1     0  ...      0      0   \n",
      "118    1    0    1    0    1    0    1    0    1     0  ...      0      0   \n",
      "352    1    0    1    0    1    0    1    0    1     0  ...      0      0   \n",
      "31     1    0    1    0    1    0    1    0    1     0  ...      0      0   \n",
      "\n",
      "     F_524  F_525  F_526  F_527  F_528  F_529  F_530  F_531  \n",
      "327      0      0      1      0      0      0      1      0  \n",
      "33       0      0      0      0      0      0      0      0  \n",
      "15       0      0      0      0      0      0      0      0  \n",
      "314      0      0      1      0      0      0      1      0  \n",
      "57       0      0      0      0      0      0      0      0  \n",
      "..     ...    ...    ...    ...    ...    ...    ...    ...  \n",
      "104      0      0      1      0      0      0      1      0  \n",
      "285      0      0      0      0      0      0      0      1  \n",
      "118      1      0      1      0      0      0      1      0  \n",
      "352      0      0      1      0      0      0      1      0  \n",
      "31       0      0      0      0      0      0      0      0  \n",
      "\n",
      "[124 rows x 531 columns]\n",
      "327        malicious\n",
      "33     non-malicious\n",
      "15     non-malicious\n",
      "314        malicious\n",
      "57     non-malicious\n",
      "           ...      \n",
      "104        malicious\n",
      "285        malicious\n",
      "118        malicious\n",
      "352        malicious\n",
      "31     non-malicious\n",
      "Name: Label, Length: 124, dtype: object\n"
     ]
    }
   ],
   "source": [
    "print (X_test)\n",
    "print (y_test)"
   ]
  },
  {
   "cell_type": "code",
   "execution_count": null,
   "id": "3e406de2",
   "metadata": {},
   "outputs": [],
   "source": [
    "pd.read_csv(\"./uci_malware_detection.csv\")"
   ]
  },
  {
   "cell_type": "code",
   "execution_count": null,
   "id": "9a964dc8",
   "metadata": {},
   "outputs": [],
   "source": [
    "df=pd.read_csv(\"./uci_malware_detection.csv\")"
   ]
  },
  {
   "cell_type": "code",
   "execution_count": null,
   "id": "69a8552b",
   "metadata": {},
   "outputs": [],
   "source": [
    "df.head(10)"
   ]
  },
  {
   "cell_type": "code",
   "execution_count": null,
   "id": "6002bc04",
   "metadata": {},
   "outputs": [],
   "source": [
    "df.tail(10)\n",
    "df.describe()"
   ]
  },
  {
   "cell_type": "code",
   "execution_count": null,
   "id": "cb4c5b12",
   "metadata": {},
   "outputs": [],
   "source": [
    "def is_malware(x):\n",
    "    ·codigo\n",
    "    return true\n",
    "    return false"
   ]
  },
  {
   "cell_type": "code",
   "execution_count": null,
   "id": "45477089",
   "metadata": {},
   "outputs": [],
   "source": [
    "y = df[\"Label\"]"
   ]
  },
  {
   "cell_type": "code",
   "execution_count": null,
   "id": "3a353107",
   "metadata": {},
   "outputs": [],
   "source": [
    "x=df.drop(\"Label\",axis=1)"
   ]
  },
  {
   "cell_type": "code",
   "execution_count": null,
   "id": "815814fe",
   "metadata": {},
   "outputs": [],
   "source": [
    "y"
   ]
  },
  {
   "cell_type": "code",
   "execution_count": null,
   "id": "49830ce1",
   "metadata": {},
   "outputs": [],
   "source": [
    "x"
   ]
  }
 ],
 "metadata": {
  "kernelspec": {
   "display_name": "Python 3.11.0 64-bit",
   "language": "python",
   "name": "python3"
  },
  "language_info": {
   "codemirror_mode": {
    "name": "ipython",
    "version": 3
   },
   "file_extension": ".py",
   "mimetype": "text/x-python",
   "name": "python",
   "nbconvert_exporter": "python",
   "pygments_lexer": "ipython3",
   "version": "3.11.0"
  },
  "vscode": {
   "interpreter": {
    "hash": "25aa516d811766120293c5dcb739461d5096634a1074b205c6c75447d7a41149"
   }
  }
 },
 "nbformat": 4,
 "nbformat_minor": 5
}
